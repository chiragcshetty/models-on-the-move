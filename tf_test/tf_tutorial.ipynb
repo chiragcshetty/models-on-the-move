{
 "cells": [
  {
   "cell_type": "code",
   "execution_count": 1,
   "id": "16f827ff",
   "metadata": {},
   "outputs": [
    {
     "name": "stderr",
     "output_type": "stream",
     "text": [
      "2022-09-28 11:10:02.074337: I tensorflow/core/platform/cpu_feature_guard.cc:193] This TensorFlow binary is optimized with oneAPI Deep Neural Network Library (oneDNN) to use the following CPU instructions in performance-critical operations:  AVX2 AVX512F FMA\n",
      "To enable them in other operations, rebuild TensorFlow with the appropriate compiler flags.\n",
      "2022-09-28 11:10:02.237075: E tensorflow/stream_executor/cuda/cuda_blas.cc:2981] Unable to register cuBLAS factory: Attempting to register factory for plugin cuBLAS when one has already been registered\n",
      "2022-09-28 11:10:02.792482: W tensorflow/stream_executor/platform/default/dso_loader.cc:64] Could not load dynamic library 'libnvinfer.so.7'; dlerror: libnvinfer.so.7: cannot open shared object file: No such file or directory; LD_LIBRARY_PATH: :/home/cshetty2/anaconda3/envs/tf_v2/lib/\n",
      "2022-09-28 11:10:02.792566: W tensorflow/stream_executor/platform/default/dso_loader.cc:64] Could not load dynamic library 'libnvinfer_plugin.so.7'; dlerror: libnvinfer_plugin.so.7: cannot open shared object file: No such file or directory; LD_LIBRARY_PATH: :/home/cshetty2/anaconda3/envs/tf_v2/lib/\n",
      "2022-09-28 11:10:02.792575: W tensorflow/compiler/tf2tensorrt/utils/py_utils.cc:38] TF-TRT Warning: Cannot dlopen some TensorRT libraries. If you would like to use Nvidia GPU with TensorRT, please make sure the missing libraries mentioned above are installed properly.\n"
     ]
    },
    {
     "name": "stdout",
     "output_type": "stream",
     "text": [
      "TensorFlow version: 2.10.0\n"
     ]
    }
   ],
   "source": [
    "#source: https://www.tensorflow.org/tutorials/quickstart/beginner\n",
    "\n",
    "import tensorflow as tf\n",
    "print(\"TensorFlow version:\", tf.__version__)"
   ]
  },
  {
   "cell_type": "code",
   "execution_count": 2,
   "id": "d3111dc2",
   "metadata": {},
   "outputs": [],
   "source": [
    "mnist = tf.keras.datasets.mnist\n",
    "\n",
    "(x_train, y_train), (x_test, y_test) = mnist.load_data()\n",
    "x_train, x_test = x_train / 255.0, x_test / 255.0"
   ]
  },
  {
   "cell_type": "code",
   "execution_count": 3,
   "id": "66658ecc",
   "metadata": {},
   "outputs": [
    {
     "name": "stderr",
     "output_type": "stream",
     "text": [
      "2022-09-28 11:10:05.669594: I tensorflow/core/platform/cpu_feature_guard.cc:193] This TensorFlow binary is optimized with oneAPI Deep Neural Network Library (oneDNN) to use the following CPU instructions in performance-critical operations:  AVX2 AVX512F FMA\n",
      "To enable them in other operations, rebuild TensorFlow with the appropriate compiler flags.\n",
      "2022-09-28 11:10:07.440343: I tensorflow/core/common_runtime/gpu/gpu_device.cc:1616] Created device /job:localhost/replica:0/task:0/device:GPU:0 with 6646 MB memory:  -> device: 0, name: NVIDIA GeForce RTX 2080, pci bus id: 0000:19:00.0, compute capability: 7.5\n",
      "2022-09-28 11:10:07.441091: I tensorflow/core/common_runtime/gpu/gpu_device.cc:1616] Created device /job:localhost/replica:0/task:0/device:GPU:1 with 6646 MB memory:  -> device: 1, name: NVIDIA GeForce RTX 2080, pci bus id: 0000:1a:00.0, compute capability: 7.5\n",
      "2022-09-28 11:10:07.441735: I tensorflow/core/common_runtime/gpu/gpu_device.cc:1616] Created device /job:localhost/replica:0/task:0/device:GPU:2 with 6646 MB memory:  -> device: 2, name: NVIDIA GeForce RTX 2080, pci bus id: 0000:67:00.0, compute capability: 7.5\n",
      "2022-09-28 11:10:07.442367: I tensorflow/core/common_runtime/gpu/gpu_device.cc:1616] Created device /job:localhost/replica:0/task:0/device:GPU:3 with 6646 MB memory:  -> device: 3, name: NVIDIA GeForce RTX 2080, pci bus id: 0000:68:00.0, compute capability: 7.5\n"
     ]
    }
   ],
   "source": [
    "model = tf.keras.models.Sequential([\n",
    "  tf.keras.layers.Flatten(input_shape=(28, 28)),\n",
    "  tf.keras.layers.Dense(1280, activation='relu'),\n",
    "  tf.keras.layers.Dense(5120, activation='relu'),\n",
    "  tf.keras.layers.Dense(5120, activation='relu'),\n",
    "  tf.keras.layers.Dense(5120, activation='relu'),\n",
    "  tf.keras.layers.Dense(5120, activation='relu'),\n",
    "  tf.keras.layers.Dense(5120, activation='relu'),\n",
    "  tf.keras.layers.Dense(5120, activation='relu'),\n",
    "  tf.keras.layers.Dense(5120, activation='relu'),\n",
    "  tf.keras.layers.Dense(5120, activation='relu'),\n",
    "  tf.keras.layers.Dense(5120, activation='relu'),\n",
    "  tf.keras.layers.Dense(5120, activation='relu'),\n",
    "  tf.keras.layers.Dense(5120, activation='relu'),\n",
    "  tf.keras.layers.Dense(128, activation='relu'),\n",
    "  tf.keras.layers.Dropout(0.2),\n",
    "  tf.keras.layers.Dense(10)\n",
    "])"
   ]
  },
  {
   "cell_type": "code",
   "execution_count": 4,
   "id": "85abf143",
   "metadata": {},
   "outputs": [
    {
     "data": {
      "text/plain": [
       "array([[-0.00036247,  0.00341535,  0.00240648,  0.00086086,  0.00275272,\n",
       "         0.00814319,  0.00016253, -0.00078512, -0.00335089, -0.00165615]],\n",
       "      dtype=float32)"
      ]
     },
     "execution_count": 4,
     "metadata": {},
     "output_type": "execute_result"
    }
   ],
   "source": [
    "predictions = model(x_train[:1]).numpy()\n",
    "predictions"
   ]
  },
  {
   "cell_type": "code",
   "execution_count": 5,
   "id": "f29d7972",
   "metadata": {},
   "outputs": [],
   "source": [
    "loss_fn = tf.keras.losses.SparseCategoricalCrossentropy(from_logits=True)"
   ]
  },
  {
   "cell_type": "code",
   "execution_count": 6,
   "id": "64cafa8e",
   "metadata": {},
   "outputs": [
    {
     "data": {
      "text/plain": [
       "2.2956052"
      ]
     },
     "execution_count": 6,
     "metadata": {},
     "output_type": "execute_result"
    }
   ],
   "source": [
    "loss_fn(y_train[:1], predictions).numpy()"
   ]
  },
  {
   "cell_type": "code",
   "execution_count": 7,
   "id": "822186ca",
   "metadata": {},
   "outputs": [],
   "source": [
    "model.compile(optimizer='adam',\n",
    "              loss=loss_fn,\n",
    "              metrics=['accuracy'])"
   ]
  },
  {
   "cell_type": "code",
   "execution_count": 8,
   "id": "5baf325d",
   "metadata": {},
   "outputs": [
    {
     "name": "stdout",
     "output_type": "stream",
     "text": [
      "938/938 [==============================] - 40s 43ms/step - loss: 1.6069 - accuracy: 0.3735\n"
     ]
    },
    {
     "data": {
      "text/plain": [
       "<keras.callbacks.History at 0x7ffacc57d460>"
      ]
     },
     "execution_count": 8,
     "metadata": {},
     "output_type": "execute_result"
    }
   ],
   "source": [
    "model.fit(x_train, y_train, epochs=1, batch_size=64)"
   ]
  },
  {
   "cell_type": "code",
   "execution_count": null,
   "id": "623797c3",
   "metadata": {},
   "outputs": [],
   "source": []
  },
  {
   "cell_type": "code",
   "execution_count": 9,
   "id": "77f8f7b7",
   "metadata": {},
   "outputs": [
    {
     "name": "stdout",
     "output_type": "stream",
     "text": [
      "313/313 - 2s - loss: 1.1891 - accuracy: 0.5198 - 2s/epoch - 6ms/step\n"
     ]
    },
    {
     "data": {
      "text/plain": [
       "[1.1890606880187988, 0.5198000073432922]"
      ]
     },
     "execution_count": 9,
     "metadata": {},
     "output_type": "execute_result"
    }
   ],
   "source": [
    "model.evaluate(x_test,  y_test, verbose=2)"
   ]
  },
  {
   "cell_type": "code",
   "execution_count": 10,
   "id": "4efb06ca",
   "metadata": {},
   "outputs": [
    {
     "data": {
      "text/plain": [
       "<tf.Tensor: shape=(5, 10), dtype=float32, numpy=\n",
       "array([[2.5986719e-06, 4.8292699e-01, 3.4075134e-04, 3.3214630e-05,\n",
       "        1.2282315e-03, 4.8822176e-06, 1.2694366e-05, 5.0691396e-01,\n",
       "        2.4783984e-03, 6.0582780e-03],\n",
       "       [1.1151332e-01, 4.6296188e-04, 3.3098781e-01, 7.5569548e-02,\n",
       "        5.3723110e-04, 2.3654296e-01, 2.3414542e-01, 1.7299158e-04,\n",
       "        9.7960429e-03, 2.7165725e-04],\n",
       "       [6.1666160e-06, 4.0059313e-01, 5.2561180e-04, 1.4479710e-04,\n",
       "        7.8916885e-03, 2.6838414e-05, 2.1388922e-05, 5.6028646e-01,\n",
       "        3.6064631e-03, 2.6897466e-02],\n",
       "       [9.1352493e-01, 7.8915706e-20, 5.1006483e-04, 2.5635353e-11,\n",
       "        3.8165387e-19, 3.7201033e-07, 8.5964635e-02, 1.6281823e-20,\n",
       "        5.0452498e-17, 1.6079722e-22],\n",
       "       [2.7384542e-05, 2.1820891e-01, 1.0272339e-03, 1.6948123e-03,\n",
       "        1.2970850e-01, 4.8910984e-04, 5.3887972e-05, 4.1910204e-01,\n",
       "        6.9346456e-03, 2.2275348e-01]], dtype=float32)>"
      ]
     },
     "execution_count": 10,
     "metadata": {},
     "output_type": "execute_result"
    }
   ],
   "source": [
    "probability_model = tf.keras.Sequential([\n",
    "  model,\n",
    "  tf.keras.layers.Softmax()\n",
    "])\n",
    "probability_model(x_test[:5])"
   ]
  },
  {
   "cell_type": "code",
   "execution_count": null,
   "id": "5d1200c4",
   "metadata": {},
   "outputs": [],
   "source": []
  },
  {
   "cell_type": "code",
   "execution_count": null,
   "id": "77b555a3",
   "metadata": {},
   "outputs": [],
   "source": []
  }
 ],
 "metadata": {
  "kernelspec": {
   "display_name": "Python 3 (ipykernel)",
   "language": "python",
   "name": "python3"
  },
  "language_info": {
   "codemirror_mode": {
    "name": "ipython",
    "version": 3
   },
   "file_extension": ".py",
   "mimetype": "text/x-python",
   "name": "python",
   "nbconvert_exporter": "python",
   "pygments_lexer": "ipython3",
   "version": "3.9.13"
  }
 },
 "nbformat": 4,
 "nbformat_minor": 5
}
